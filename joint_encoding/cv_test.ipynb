{
 "cells": [
  {
   "cell_type": "code",
   "execution_count": 2,
   "metadata": {},
   "outputs": [],
   "source": [
    "import roslib\n",
    "import sys\n",
    "import rospy\n",
    "\n",
    "import cv2\n",
    "from std_msgs.msg import String\n",
    "from sensor_msgs.msg import Image\n",
    "from cv_bridge import CvBridge, CvBridgeError\n",
    "sys.path.append('/home/mmmil-hw/openpose/build/python');\n",
    "from openpose import pyopenpose as op\n",
    "\n",
    "def callback(data):\n",
    "    cv_image = CvBridge().imgmsg_to_cv2(data)\n",
    "    cv2.imshow('cv_img', cv_image)\n",
    "    cv2.waitKey(3)"
   ]
  },
  {
   "cell_type": "code",
   "execution_count": 3,
   "metadata": {},
   "outputs": [],
   "source": [
    "rospy.init_node('image_converter1', anonymous=True)\n",
    "\n",
    "image_sub = rospy.Subscriber(\"/camera\",Image,callback)\n",
    "\n",
    "params = dict()\n",
    "params[\"hand\"] = True\n",
    "params[\"hand_detector\"] = 2\n",
    "params[\"body\"] = 0\n",
    "\n",
    "rospy.spin()    "
   ]
  },
  {
   "cell_type": "code",
   "execution_count": null,
   "metadata": {},
   "outputs": [],
   "source": []
  },
  {
   "cell_type": "code",
   "execution_count": null,
   "metadata": {},
   "outputs": [],
   "source": [
    "cv_image = CvBridge.imgmsg_to_cv2(data, \"bgr8\")"
   ]
  },
  {
   "cell_type": "code",
   "execution_count": null,
   "metadata": {},
   "outputs": [],
   "source": [
    "image_sub"
   ]
  },
  {
   "cell_type": "code",
   "execution_count": null,
   "metadata": {},
   "outputs": [],
   "source": [
    "callback"
   ]
  },
  {
   "cell_type": "code",
   "execution_count": null,
   "metadata": {},
   "outputs": [],
   "source": [
    "import roslib\n",
    "import sys\n",
    "import rospy\n",
    "\n",
    "import cv2\n",
    "from std_msgs.msg import String\n",
    "from sensor_msgs.msg import Image\n",
    "from cv_bridge import CvBridge, CvBridgeError\n",
    "import numpy as np\n",
    "\n",
    "def callback(data):\n",
    "    np_arr = np.fromstring(data, np.uint8)\n",
    "    image_np = cv2.imdecode(np_arr, cv2.CV_LOAD_IMAGE_COLOR)\n",
    "    \n",
    "    cv2.imshow('cv_img', image_np)\n",
    "    cv2.waitKey(2)"
   ]
  }
 ],
 "metadata": {
  "kernelspec": {
   "display_name": "Python 2",
   "language": "python",
   "name": "python2"
  },
  "language_info": {
   "codemirror_mode": {
    "name": "ipython",
    "version": 2
   },
   "file_extension": ".py",
   "mimetype": "text/x-python",
   "name": "python",
   "nbconvert_exporter": "python",
   "pygments_lexer": "ipython2",
   "version": "2.7.12"
  }
 },
 "nbformat": 4,
 "nbformat_minor": 2
}
