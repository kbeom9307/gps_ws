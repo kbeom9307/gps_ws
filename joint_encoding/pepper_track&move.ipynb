{
 "cells": [
  {
   "cell_type": "code",
   "execution_count": null,
   "metadata": {},
   "outputs": [],
   "source": [
    "import time\n",
    "import numpy as np\n",
    "import naoqi as n\n",
    "import sys\n",
    "\n",
    "nao_ip = \"192.168.0.48\"\n",
    "port = 9559\n",
    "\n",
    "m = n.ALProxy(\"ALMotion\", nao_ip, port)\n",
    "\n",
    "m.wakeUp()"
   ]
  },
  {
   "cell_type": "code",
   "execution_count": null,
   "metadata": {},
   "outputs": [],
   "source": [
    "import time\n",
    "from naoqi import ALProxy\n",
    "\n",
    "# Replace this with your robot's IP address\n",
    "IP = \"192.168.0.48\"\n",
    "PORT = 9559\n",
    "\n",
    "# Create a proxy to ALFaceDetection\n",
    "try:\n",
    "    faceProxy = ALProxy(\"ALFaceDetection\", IP, PORT)\n",
    "except Exception, e:\n",
    "    print \"Error when creating face detection proxy:\"\n",
    "    print str(e)\n",
    "    exit(1)\n",
    "\n",
    "# Subscribe to the ALFaceDetection proxy\n",
    "# This means that the module will write in ALMemory with\n",
    "# the given period below\n",
    "period = 500\n",
    "faceProxy.subscribe(\"Test_Face\", period, 0.0 )"
   ]
  },
  {
   "cell_type": "code",
   "execution_count": null,
   "metadata": {},
   "outputs": [],
   "source": [
    "# ALMemory variable where the ALFaceDetection module\n",
    "# outputs its results.\n",
    "\n",
    "\n",
    "# Create a proxy to ALMemory\n",
    "try:\n",
    "  faceProxy = ALProxy(\"ALFaceDetection\", IP, PORT)  \n",
    "  memoryProxy = ALProxy(\"ALMemory\", IP, PORT)\n",
    "except Exception, e:\n",
    "  print \"Error when creating memory proxy:\"\n",
    "  print str(e)\n",
    "  exit(1)\n",
    "\n",
    "\n",
    "period = 500\n",
    "faceProxy.subscribe(\"Test_Face\", period, 0.0 )\n",
    "memValue = \"FaceDetected\"\n",
    "# A simple loop that reads the memValue and checks whether faces are detected.\n",
    "for i in range(0, 20):\n",
    "  time.sleep(0.5)\n",
    "  val = memoryProxy.getData(memValue, 0)\n",
    "  print \"\"\n",
    "  print \"\\*****\"\n",
    "  print \"\"\n",
    "\n",
    "# Check whether we got a valid output: a list with two fields.\n",
    "if(val and isinstance(val, list) and len(val) == 2):\n",
    "  # We detected faces !\n",
    "  # For each face, we can read its shape info and ID.\n",
    "  # First Field = TimeStamp.\n",
    "  timeStamp = val[0]\n",
    "  # Second Field = array of face_Info's.\n",
    "  faceInfoArray = val[1]\n",
    "\n",
    "  try:\n",
    "  # Browse the faceInfoArray to get info on each detected face.\n",
    "    for faceInfo in faceInfoArray:\n",
    "    # First Field = Shape info.\n",
    "        faceShapeInfo = faceInfo[0]\n",
    "    # Second Field = Extra info (empty for now).\n",
    "        faceExtraInfo = faceInfo[1]\n",
    "        print \"  alpha %.3f - beta %.3f\" % (faceShapeInfo[1], faceShapeInfo[2])\n",
    "        print \"  width %.3f - height %.3f\" % (faceShapeInfo[3], faceShapeInfo[4])\n",
    "  except Exception, e:\n",
    "    print \"faces detected, but it seems getData is invalid. ALValue =\"\n",
    "    print val\n",
    "    print \"Error msg %s\" % (str(e))\n",
    "else:\n",
    "  print \"Error with getData. ALValue = %s\" % (str(val))\n",
    "  # Unsubscribe the module.\n",
    "\n",
    "faceProxy.unsubscribe(\"Test_Face\")\n",
    "print \"Test terminated successfully.\""
   ]
  },
  {
   "cell_type": "markdown",
   "metadata": {},
   "source": [
    "### tracking face with head"
   ]
  },
  {
   "cell_type": "code",
   "execution_count": 5,
   "metadata": {},
   "outputs": [],
   "source": [
    "import time\n",
    "import numpy as np\n",
    "import naoqi as n\n",
    "import sys\n",
    "import pepper_kinematics as pk\n",
    "\n",
    "nao_ip = \"192.168.0.48\"\n",
    "port = 9559\n",
    "\n",
    "\n",
    "m = n.ALProxy(\"ALMotion\", nao_ip, port)\n",
    "Tr = n.ALProxy(\"ALTracker\", nao_ip, port)"
   ]
  },
  {
   "cell_type": "code",
   "execution_count": 7,
   "metadata": {},
   "outputs": [],
   "source": [
    "targetName = \"Face\"\n",
    "faceWidth = 20\n",
    "Tr.registerTarget(targetName, faceWidth)\n",
    "\n",
    "# mode = \"WholeBody\"\n",
    "# mode = \"Navigate\"\n",
    "# mode = \"Head\"\n",
    "mode = \"Head\" # \"Move\" , \"WholeBody\", \"Navigate\", \"Head\" \n",
    "Tr.setMode(mode)\n",
    "\n",
    "Tr.setEffector(\"RArm\")\n",
    "Tr.track(targetName)\n",
    "Tr.toggleSearch(True)  "
   ]
  },
  {
   "cell_type": "code",
   "execution_count": null,
   "metadata": {},
   "outputs": [],
   "source": [
    "Tr.stopTracker()\n",
    "Tr.unregisterAllTargets()\n",
    "Tr.setEffector(\"None\")"
   ]
  },
  {
   "cell_type": "code",
   "execution_count": null,
   "metadata": {},
   "outputs": [],
   "source": [
    "m.rest()"
   ]
  },
  {
   "cell_type": "code",
   "execution_count": 3,
   "metadata": {},
   "outputs": [],
   "source": [
    "Tr.getMoveConfig()"
   ]
  },
  {
   "cell_type": "code",
   "execution_count": 6,
   "metadata": {},
   "outputs": [
    {
     "data": {
      "text/plain": [
       "True"
      ]
     },
     "execution_count": 6,
     "metadata": {},
     "output_type": "execute_result"
    }
   ],
   "source": [
    "m.wakeUp()"
   ]
  },
  {
   "cell_type": "code",
   "execution_count": null,
   "metadata": {},
   "outputs": [],
   "source": [
    "Tr"
   ]
  }
 ],
 "metadata": {
  "kernelspec": {
   "display_name": "Python 2",
   "language": "python",
   "name": "python2"
  },
  "language_info": {
   "codemirror_mode": {
    "name": "ipython",
    "version": 2
   },
   "file_extension": ".py",
   "mimetype": "text/x-python",
   "name": "python",
   "nbconvert_exporter": "python",
   "pygments_lexer": "ipython2",
   "version": "2.7.12"
  }
 },
 "nbformat": 4,
 "nbformat_minor": 2
}
