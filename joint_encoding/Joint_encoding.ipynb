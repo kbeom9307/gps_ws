{
 "cells": [
  {
   "cell_type": "code",
   "execution_count": 5,
   "metadata": {},
   "outputs": [],
   "source": [
    "import time\n",
    "import numpy as np\n",
    "import naoqi as n\n",
    "import sys\n",
    "import pepper_kinematics as pk\n",
    "\n",
    "nao_ip = \"192.168.0.48\"\n",
    "port = 9559\n",
    "\n",
    "m = n.ALProxy(\"ALMotion\", nao_ip, port)\n",
    "p = n.ALProxy(\"ALRobotPosture\", nao_ip, port)\n",
    "mr = n.ALProxy(\"ALMotionRecorder\", nao_ip, port)"
   ]
  },
  {
   "cell_type": "code",
   "execution_count": 3,
   "metadata": {},
   "outputs": [
    {
     "data": {
      "text/plain": [
       "True"
      ]
     },
     "execution_count": 3,
     "metadata": {},
     "output_type": "execute_result"
    }
   ],
   "source": [
    "p.goToPosture(\"StandInit\",0.1) #m|ove to initial poseLO"
   ]
  },
  {
   "cell_type": "code",
   "execution_count": 111,
   "metadata": {},
   "outputs": [
    {
     "name": "stdout",
     "output_type": "stream",
     "text": [
      "[0.10000000149011612, 0.10000000149011612, 0.10000000149011612, 0.10000000149011612, 0.10000000149011612, 0.10000000149011612]\n"
     ]
    }
   ],
   "source": [
    "# 관절 lock 해제\n",
    "m.setStiffnesses(\"LArm\",0.1)\n",
    "stiffnesses = m.getStiffnesses(\"LArm\")\n",
    "print stiffnesses"
   ]
  },
  {
   "cell_type": "code",
   "execution_count": 113,
   "metadata": {},
   "outputs": [],
   "source": [
    "mr.post.startPeriodicRecording(pk.left_arm_tags, 0, True, 0.5, [], [])\n",
    "time.sleep(10)\n",
    "move = mr.stopAndGetRecording()\n",
    "# print move"
   ]
  },
  {
   "cell_type": "code",
   "execution_count": 114,
   "metadata": {},
   "outputs": [],
   "source": [
    "replay = []\n",
    "for y in range (0,len(move[0][1])):\n",
    "    replay.append([move[x][1][y] for x in range(0,5)]);\n"
   ]
  },
  {
   "cell_type": "code",
   "execution_count": 117,
   "metadata": {},
   "outputs": [],
   "source": [
    "for x in range(0,len(replay)):\n",
    "    m.setAngles(pk.left_arm_tags, replay[x], 0.08)\n",
    "    time.sleep(2)\n"
   ]
  },
  {
   "cell_type": "code",
   "execution_count": 100,
   "metadata": {},
   "outputs": [
    {
     "name": "stdout",
     "output_type": "stream",
     "text": [
      "[1.0, 1.0, 1.0, 1.0, 1.0, 1.0]\n"
     ]
    }
   ],
   "source": [
    "# 관절 lock 해제\n",
    "m.setStiffnesses(\"LArm\",1.0)\n",
    "stiffnesses = m.getStiffnesses(\"LArm\")\n",
    "print stiffnesses"
   ]
  },
  {
   "cell_type": "code",
   "execution_count": 118,
   "metadata": {},
   "outputs": [
    {
     "data": {
      "text/plain": [
       "['LShoulderPitch', 'LShoulderRoll', 'LElbowYaw', 'LElbowRoll', 'LWristYaw']"
      ]
     },
     "execution_count": 118,
     "metadata": {},
     "output_type": "execute_result"
    }
   ],
   "source": [
    "pk.left_arm_tags"
   ]
  },
  {
   "cell_type": "code",
   "execution_count": 120,
   "metadata": {},
   "outputs": [
    {
     "data": {
      "text/plain": [
       "[[-0.2454369068145752,\n",
       "  -1.383650541305542,\n",
       "  1.529378890991211,\n",
       "  0.09050488471984863,\n",
       "  -0.0031099319458007812],\n",
       " [-0.2454369068145752,\n",
       "  -1.3851845264434814,\n",
       "  1.5309128761291504,\n",
       "  0.09203886985778809,\n",
       "  -0.0015759468078613281],\n",
       " [-0.2454369068145752,\n",
       "  -1.386718511581421,\n",
       "  1.529378890991211,\n",
       "  0.09050488471984863,\n",
       "  -0.0031099319458007812],\n",
       " [-0.2454369068145752,\n",
       "  -1.386718511581421,\n",
       "  1.5309128761291504,\n",
       "  0.09203886985778809,\n",
       "  -0.0015759468078613281],\n",
       " [-0.2454369068145752,\n",
       "  -1.386718511581421,\n",
       "  1.529378890991211,\n",
       "  0.09050488471984863,\n",
       "  -0.0015759468078613281],\n",
       " [-0.2776505947113037,\n",
       "  -1.3759806156158447,\n",
       "  1.480291485786438,\n",
       "  0.19174766540527344,\n",
       "  0.0060939788818359375],\n",
       " [-0.251572847366333,\n",
       "  -1.3790485858917236,\n",
       "  1.4925633668899536,\n",
       "  0.6948933601379395,\n",
       "  0.013764142990112305],\n",
       " [-0.25310683250427246,\n",
       "  -1.380582571029663,\n",
       "  1.5048352479934692,\n",
       "  1.431204080581665,\n",
       "  0.013764142990112305],\n",
       " [-0.2945244312286377,\n",
       "  -1.383650541305542,\n",
       "  1.5048352479934692,\n",
       "  1.5508545637130737,\n",
       "  0.015298128128051758],\n",
       " [-0.3067960739135742,\n",
       "  -1.3851845264434814,\n",
       "  1.5048352479934692,\n",
       "  1.4879614114761353,\n",
       "  0.015298128128051758],\n",
       " [-0.33594179153442383,\n",
       "  -1.3913204669952393,\n",
       "  1.4680196046829224,\n",
       "  1.0523109436035156,\n",
       "  0.015298128128051758],\n",
       " [-0.3528156280517578,\n",
       "  -1.3928544521331787,\n",
       "  1.1704273223876953,\n",
       "  0.992485523223877,\n",
       "  0.013764142990112305],\n",
       " [-0.2883884906768799,\n",
       "  -1.4020583629608154,\n",
       "  0.46019434928894043,\n",
       "  0.7654564380645752,\n",
       "  0.01222991943359375],\n",
       " [-0.2254951000213623,\n",
       "  -1.4020583629608154,\n",
       "  0.0061359405517578125,\n",
       "  0.4908738136291504,\n",
       "  0.01683211326599121],\n",
       " [-0.05368924140930176,\n",
       "  -1.383650541305542,\n",
       "  -0.6304662227630615,\n",
       "  0.4647963047027588,\n",
       "  0.01683211326599121],\n",
       " [-0.0981748104095459,\n",
       "  -1.3821165561676025,\n",
       "  -1.0293009281158447,\n",
       "  0.4739999771118164,\n",
       "  0.0014920234680175781],\n",
       " [-0.09664082527160645,\n",
       "  -1.3943884372711182,\n",
       "  -1.1734955310821533,\n",
       "  0.49547576904296875,\n",
       "  0.004559993743896484],\n",
       " [-0.1012427806854248,\n",
       "  -1.3959224224090576,\n",
       "  -1.2179806232452393,\n",
       "  0.4970097541809082,\n",
       "  0.0014920234680175781],\n",
       " [-0.12271857261657715,\n",
       "  -1.3821165561676025,\n",
       "  -1.2149126529693604,\n",
       "  0.4970097541809082,\n",
       "  0.02603602409362793],\n",
       " [-0.34514570236206055,\n",
       "  -1.3713786602020264,\n",
       "  -1.1995728015899658,\n",
       "  0.49240779876708984,\n",
       "  0.05824995040893555]]"
      ]
     },
     "execution_count": 120,
     "metadata": {},
     "output_type": "execute_result"
    }
   ],
   "source": [
    "replay"
   ]
  },
  {
   "cell_type": "code",
   "execution_count": 8,
   "metadata": {},
   "outputs": [],
   "source": [
    "import time\n",
    "import numpy as np\n",
    "import naoqi as n\n",
    "import sys\n",
    "import pepper_kinematics as pk\n",
    "\n",
    "nao_ip = \"192.168.0.48\"\n",
    "port = 9559\n",
    "\n",
    "m = n.ALProxy(\"ALMotion\", nao_ip, port)\n",
    "\n",
    "names = list()\n",
    "times = list()\n",
    "keys = list()\n",
    "\n",
    "names.append(\"HeadPitch\")\n",
    "times.append([1.47368, 2.52632, 3.31579, 4.10526, 5, 5.94737])\n",
    "keys.append([-0.0337477, -0.0245438, -0.00306797, 0.0199418, 0.0199418, 0.0199418])\n",
    "\n",
    "names.append(\"HeadYaw\")\n",
    "times.append([1.47368, 2.52632, 3.31579, 4.10526, 5, 5.94737])\n",
    "keys.append([0.00460196, 0.00460196, 0.00460196, 0.00460196, 0.00460196, 0.00460196])\n",
    "\n",
    "names.append(\"HipPitch\")\n",
    "times.append([0.578947, 1.47368, 2.52632, 3.31579, 4.10526, 5, 5.94737])\n",
    "keys.append([-0.0291457, -0.0291457, -0.0291457, -0.0291457, -0.0291457, -0.0291457, -0.0291457])\n",
    "\n",
    "names.append(\"HipRoll\")\n",
    "times.append([0.578947, 1.47368, 2.52632, 3.31579, 4.10526, 5, 5.94737])\n",
    "keys.append([-0.00460196, -0.00460196, 0.00613594, -0.00613594, -0.00613594, -0.00613594, -0.00613594])\n",
    "\n",
    "names.append(\"KneePitch\")\n",
    "times.append([0.578947, 1.47368, 2.52632, 3.31579, 4.10526, 5, 5.94737])\n",
    "keys.append([-0.00766993, 0.00306797, 0.00306797, -0.00766993, -0.00766993, -0.00766993, -0.00766993])\n",
    "\n",
    "names.append(\"LElbowRoll\")\n",
    "times.append([0.578947, 1.47368, 2.52632, 3.31579, 4.10526, 5, 5.94737])\n",
    "keys.append([-0.110447, -0.110447, -0.110447, -0.110447, -0.110447, -0.110447, -0.110447])\n",
    "\n",
    "names.append(\"LElbowYaw\")\n",
    "times.append([0.578947, 1.47368, 2.52632, 3.31579, 4.10526, 5, 5.94737])\n",
    "keys.append([-1.71346, -1.71346, -1.72419, -1.72419, -1.72419, -1.72419, -1.72419])\n",
    "\n",
    "names.append(\"LHand\")\n",
    "times.append([0.578947, 1.47368, 2.52632, 3.31579, 4.10526, 5, 5.94737])\n",
    "keys.append([0.681019, 0.681019, 0.681019, 0.681019, 0.681019, 0.681019, 0.681019])\n",
    "\n",
    "names.append(\"LShoulderPitch\")\n",
    "times.append([0.578947, 1.47368, 2.52632, 3.31579, 4.10526, 5, 5.94737])\n",
    "keys.append([1.76561, 1.76561, 1.76561, 1.76561, 1.76561, 1.76561, 1.76561])\n",
    "\n",
    "names.append(\"LShoulderRoll\")\n",
    "times.append([0.578947, 1.47368, 2.52632, 3.31579, 4.10526, 5, 5.94737])\n",
    "keys.append([0.075165, 0.075165, 0.075165, 0.075165, 0.075165, 0.075165, 0.075165])\n",
    "\n",
    "names.append(\"LWristYaw\")\n",
    "times.append([0.578947, 1.47368, 2.52632, 3.31579, 4.10526, 5, 5.94737])\n",
    "keys.append([0.049046, 0.049046, 0.049046, 0.049046, 0.049046, 0.049046, 0.049046])\n",
    "\n",
    "names.append(\"RElbowRoll\")\n",
    "times.append([0.578947, 1.47368, 2.52632, 3.31579, 4.10526, 5, 5.94737])\n",
    "keys.append([0.00872665, 0.97101, 1.55239, 0.446388, 0.95567, 1.27934, 0.00872665])\n",
    "\n",
    "names.append(\"RElbowYaw\")\n",
    "times.append([0.578947, 1.47368, 2.52632, 3.31579, 4.10526, 5, 5.94737])\n",
    "keys.append([0.785398, 0.785398, 1.27934, 1.60608, 1.4128, 1.20571, 1.32229])\n",
    "\n",
    "names.append(\"RHand\")\n",
    "times.append([0.578947, 1.47368, 2.52632, 3.31579, 4.10526, 5, 5.94737])\n",
    "keys.append([0.853251, 0.302285, 0.43058, 0.424429, 0.365554, 0.322496, 0.438489])\n",
    "\n",
    "names.append(\"RShoulderPitch\")\n",
    "times.append([0.578947, 1.47368, 2.52632, 3.31579, 4.10526, 5, 5.94737])\n",
    "keys.append([1.41893, 0.564505, 0.713301, 0.948, 1.36984, 1.17656, 1.39285])\n",
    "\n",
    "names.append(\"RShoulderRoll\")\n",
    "times.append([0.578947, 1.47368, 2.52632, 3.31579, 4.10526, 5, 5.94737])\n",
    "keys.append([-0.222427, -0.566039, -1.07072, -0.322136, -0.423379, -0.199418, -0.0920389])\n",
    "\n",
    "names.append(\"RWristYaw\")\n",
    "times.append([0.578947, 1.47368, 2.52632, 3.31579, 4.10526, 5, 5.94737])\n",
    "keys.append([0.481634, 1.25937, 0.0413761, -0.653526, 0.716336, 0.153358, -0.268492])\n",
    "\n",
    "try:\n",
    "  # uncomment the following line and modify the IP if you use this script outside Choregraphe.\n",
    "  # motion = ALProxy(\"ALMotion\", IP, 9559)\n",
    "  motion = n.ALProxy(\"ALMotion\", nao_ip, port)\n",
    "  motion.angleInterpolation(names, keys, times, True)\n",
    "except BaseException, err:\n",
    "  print err\n"
   ]
  },
  {
   "cell_type": "code",
   "execution_count": null,
   "metadata": {},
   "outputs": [],
   "source": []
  },
  {
   "cell_type": "code",
   "execution_count": null,
   "metadata": {},
   "outputs": [],
   "source": []
  }
 ],
 "metadata": {
  "kernelspec": {
   "display_name": "Python 2",
   "language": "python",
   "name": "python2"
  },
  "language_info": {
   "codemirror_mode": {
    "name": "ipython",
    "version": 2
   },
   "file_extension": ".py",
   "mimetype": "text/x-python",
   "name": "python",
   "nbconvert_exporter": "python",
   "pygments_lexer": "ipython2",
   "version": "2.7.12"
  }
 },
 "nbformat": 4,
 "nbformat_minor": 2
}
