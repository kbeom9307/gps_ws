{
 "cells": [
  {
   "cell_type": "code",
   "execution_count": null,
   "metadata": {},
   "outputs": [],
   "source": [
    "import time\n",
    "import numpy as np\n",
    "import naoqi as n\n",
    "import sys\n",
    "import pepper_kinematics as pk\n",
    "\n",
    "nao_ip = \"192.168.0.48\"\n",
    "port = 9559\n",
    "\n",
    "m = n.ALProxy(\"ALMotion\", nao_ip, port)\n",
    "p = n.ALProxy(\"ALRobotPosture\", nao_ip, port)\n",
    "mr = n.ALProxy(\"ALMotionRecorder\", nao_ip, port)\n",
    "T = n.ALProxy(\"ALTouch\", nao_ip, port)\n",
    "Ph = n.ALProxy(\"ALPhotoCapture\", nao_ip, port)\n",
    "V = n.ALProxy(\"ALVideoDevice\", nao_ip, port)"
   ]
  },
  {
   "cell_type": "code",
   "execution_count": null,
   "metadata": {},
   "outputs": [],
   "source": [
    "#move to initial pose\n",
    "p.goToPosture(\"StandInit\",0.1)"
   ]
  },
  {
   "cell_type": "code",
   "execution_count": 1,
   "metadata": {},
   "outputs": [],
   "source": [
    "import roslib\n",
    "import sys\n",
    "import rospy\n",
    "import cv2\n",
    "from std_msgs.msg import String\n",
    "from sensor_msgs.msg import Image\n",
    "from cv_bridge import CvBridge, CvBridgeError\n",
    "import time\n",
    "\n",
    "\n",
    "class image_converter:\n",
    "\n",
    "  def __init__(self):\n",
    "    self.image_pub = rospy.Publisher(\"image_topic_2\",Image,queue_size = 10)\n",
    "\n",
    "    self.bridge = CvBridge()\n",
    "    self.image_sub = rospy.Subscriber(\"/camera/image_raw\",Image,self.callback)\n",
    "    self.cv_list = [] \n",
    "\n",
    "  def callback(self,data):\n",
    "    try:\n",
    "      cv_image = self.bridge.imgmsg_to_cv2(data, \"bgr8\")\n",
    "    except CvBridgeError as e:\n",
    "      print(e)\n",
    "\n",
    "    (rows,cols,channels) = cv_image.shape\n",
    "    if cols > 60 and rows > 60 :\n",
    "      cv2.circle(cv_image, (50,50), 10, 255)\n",
    "\n",
    "    out = cv2.VideoWriter('project.avi',cv2.VideoWriter_fourcc(*'DIVX'), 15, (cols,rows)\n",
    "    cv2.imshow(\"Image window\", cv_image)\n",
    "    self.cv_list.append(cv_image)\n",
    "    # print len(self.cv_list)\n",
    "    k = cv2.waitKey(1)\n",
    "    if k == 27: # esc key\n",
    "        \n",
    "        cv2.destroyAllWindows()\n",
    "        time.sleep(10)\n",
    "        for i in range(len(self.cv_list)):\n",
    "            out.write(self.cv_list[i])\n",
    "        out.release()\n",
    "        rospy.signal_shutdown(\"reason\")\n",
    "    \n",
    "\n",
    "#    try:\n",
    "#      self.image_pub.publish(self.bridge.cv2_to_imgmsg(cv_image, \"bgr8\"))\n",
    "#    except CvBridgeError as e:\n",
    "#      print(e)\n",
    "\n",
    "def main(args):\n",
    "  ic = image_converter()\n",
    "  rospy.init_node('image_converter1', anonymous=True)\n",
    "  try:\n",
    "    rospy.spin()\n",
    "  except KeyboardInterrupt:\n",
    "    print(\"Shutting down\")\n",
    "    cv2.destroyAllWindows()"
   ]
  },
  {
   "cell_type": "code",
   "execution_count": 2,
   "metadata": {},
   "outputs": [],
   "source": [
    "main(\"\")"
   ]
  },
  {
   "cell_type": "code",
   "execution_count": null,
   "metadata": {},
   "outputs": [],
   "source": [
    "(rows,cols,channels) = cv_image.shape"
   ]
  },
  {
   "cell_type": "code",
   "execution_count": null,
   "metadata": {},
   "outputs": [],
   "source": [
    "import cv2\n",
    "import numpy as np\n",
    "\n",
    "img_array = []\n",
    "    img = cv_image\n",
    "    height, width, layers = img.shape\n",
    "    size = (width,height)\n",
    "    img_array.append(img)\n",
    "\n",
    "\n",
    "out = cv2.VideoWriter('project.avi',cv2.VideoWriter_fourcc(*'DIVX'), 15, size)\n",
    " \n",
    "for i in range(len(img_array)):\n",
    "    out.write(img_array[i])\n",
    "out.release()"
   ]
  },
  {
   "cell_type": "code",
   "execution_count": null,
   "metadata": {},
   "outputs": [],
   "source": [
    "import roslib\n",
    "import sys\n",
    "import rospy\n",
    "import cv2\n",
    "from std_msgs.msg import String\n",
    "from sensor_msgs.msg import Image\n",
    "from cv_bridge import CvBridge, CvBridgeError\n",
    "\n",
    "class image_converter:\n",
    "\n",
    "  def __init__(self):\n",
    "    self.image_pub = rospy.Publisher(\"image_topic_2\",Image,queue_size = 10)\n",
    "\n",
    "    self.bridge = CvBridge()\n",
    "    self.image_sub = rospy.Subscriber(\"/camera/image_raw\",Image,self.callback)\n",
    "\n",
    "  def callback(self,data):\n",
    "    try:\n",
    "      cv_image = self.bridge.imgmsg_to_cv2(data, \"bgr8\")\n",
    "    except CvBridgeError as e:\n",
    "      print(e)\n",
    "\n",
    "    (rows,cols,channels) = cv_image.shape\n",
    "    if cols > 60 and rows > 60 :\n",
    "      cv2.circle(cv_image, (50,50), 10, 255)\n",
    "\n",
    "    img_array = []\n",
    "    \n",
    "    \n",
    "    cv2.imshow(\"Image_window\", cv_image)\n",
    "    cv2.waitKey(3)\n",
    "    img_array.append(cv_image)\n",
    "   \n",
    "#    try:\n",
    "#      self.image_pub.publish(self.bridge.cv2_to_imgmsg(cv_image, \"bgr8\"))\n",
    "#    except CvBridgeError as e:\n",
    "#      print(e)\n",
    "\n",
    "def main(args):\n",
    "  ic = image_converter()\n",
    "  rospy.init_node('image_converter1', anonymous=True)\n",
    "  try:\n",
    "    rospy.spin()\n",
    "  except KeyboardInterrupt:\n",
    "    print(\"Shutting down\")\n",
    "  cv2.destroyAllWindows()"
   ]
  },
  {
   "cell_type": "code",
   "execution_count": null,
   "metadata": {},
   "outputs": [],
   "source": [
    "main(\"\")"
   ]
  },
  {
   "cell_type": "code",
   "execution_count": null,
   "metadata": {},
   "outputs": [],
   "source": [
    "np.zeros()"
   ]
  },
  {
   "cell_type": "code",
   "execution_count": null,
   "metadata": {},
   "outputs": [],
   "source": [
    "a.shape"
   ]
  },
  {
   "cell_type": "code",
   "execution_count": null,
   "metadata": {},
   "outputs": [],
   "source": [
    "import cv2\n",
    "b = cv2.imread(\"camImage.png\")\n",
    "#lis=[]\n",
    "lis.append(b)"
   ]
  },
  {
   "cell_type": "code",
   "execution_count": null,
   "metadata": {},
   "outputs": [],
   "source": [
    "len(lis)"
   ]
  },
  {
   "cell_type": "code",
   "execution_count": null,
   "metadata": {},
   "outputs": [],
   "source": []
  }
 ],
 "metadata": {
  "kernelspec": {
   "display_name": "Python 2",
   "language": "python",
   "name": "python2"
  },
  "language_info": {
   "codemirror_mode": {
    "name": "ipython",
    "version": 2
   },
   "file_extension": ".py",
   "mimetype": "text/x-python",
   "name": "python",
   "nbconvert_exporter": "python",
   "pygments_lexer": "ipython2",
   "version": "2.7.12"
  }
 },
 "nbformat": 4,
 "nbformat_minor": 2
}
